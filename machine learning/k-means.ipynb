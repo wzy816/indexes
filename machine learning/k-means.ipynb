{
  "nbformat": 4,
  "nbformat_minor": 0,
  "metadata": {
    "colab": {
      "name": "Untitled1.ipynb",
      "provenance": [],
      "collapsed_sections": [],
      "include_colab_link": true
    },
    "kernelspec": {
      "name": "python3",
      "display_name": "Python 3"
    }
  },
  "cells": [
    {
      "cell_type": "markdown",
      "metadata": {
        "id": "view-in-github",
        "colab_type": "text"
      },
      "source": [
        "<a href=\"https://colab.research.google.com/github/wzy816/fundamentals/blob/master/026.k-means.ipynb\" target=\"_parent\"><img src=\"https://colab.research.google.com/assets/colab-badge.svg\" alt=\"Open In Colab\"/></a>"
      ]
    },
    {
      "cell_type": "code",
      "metadata": {
        "id": "L1sgtQff9qxe",
        "colab_type": "code",
        "colab": {}
      },
      "source": [
        "import numpy as np\n",
        "from matplotlib import pyplot as plt\n",
        "\n",
        "def k_means(dataset, number_of_clusters, max_step):\n",
        "    N, d = dataset.shape\n",
        "\n",
        "    # 初始化质心，随机选取 number_of_clusters 个数据点\n",
        "    i = np.random.randint(0, N, number_of_clusters)\n",
        "    centers = dataset[i,:]\n",
        "    \n",
        "    # 初识化每个数据点到质心的距离\n",
        "    distance = np.zeros((N,number_of_clusters))\n",
        "    \n",
        "    # 初始化每个数据点对应的质心编号\n",
        "    clusters = np.zeros(N, dtype=np.int32)\n",
        "    \n",
        "    \n",
        "    step = 0\n",
        "    converged = False\n",
        "    while not converged and step<max_step:\n",
        "        print('step',step, end=' ')\n",
        "        \n",
        "        # 对数据集的每个数据点，计算对每个质心与数据点之间的距离\n",
        "        for c in range(number_of_clusters):\n",
        "            distance[:,c] = np.power(dataset-centers[c,:],2).sum(1)\n",
        "\n",
        "        # 每个数据点对应的最近的质心为新的质心\n",
        "        new_clusters = np.argmin(distance, axis=1)\n",
        "        \n",
        "        # 如果质心的对应关系未变，则收敛\n",
        "        diff = np.not_equal(clusters, new_clusters).sum()\n",
        "        if diff == 0:\n",
        "            converged = True\n",
        "        print('diff', diff)\n",
        "        clusters = new_clusters\n",
        "        \n",
        "        # 用对应这个质心的数据点的平均值，重新定义该质心位置\n",
        "        for c in range(number_of_clusters):\n",
        "            centers[c,:] = dataset[clusters == c,:].mean()\n",
        "            \n",
        "        step = step+1\n",
        "    \n",
        "    return centers"
      ],
      "execution_count": 0,
      "outputs": []
    },
    {
      "cell_type": "code",
      "metadata": {
        "id": "bt3dgb3J-AnI",
        "colab_type": "code",
        "colab": {
          "base_uri": "https://localhost:8080/",
          "height": 320
        },
        "outputId": "68b0bc94-f8a6-4615-b3ab-813e41513056"
      },
      "source": [
        "arr1 = np.random.normal(0,1,(100,2))\n",
        "arr2 = np.random.normal(5,1,(100,2))\n",
        "arr = np.concatenate((arr1,arr2), axis=0)\n",
        "plt.scatter(arr[:,0],arr[:,1])\n",
        "\n",
        "centers = k_means(arr,2,100)\n",
        "plt.scatter(centers[:,0],centers[:,1],c='red')"
      ],
      "execution_count": 24,
      "outputs": [
        {
          "output_type": "stream",
          "text": [
            "step 0 diff 100\n",
            "step 1 diff 0\n"
          ],
          "name": "stdout"
        },
        {
          "output_type": "execute_result",
          "data": {
            "text/plain": [
              "<matplotlib.collections.PathCollection at 0x7fd22eaa0390>"
            ]
          },
          "metadata": {
            "tags": []
          },
          "execution_count": 24
        },
        {
          "output_type": "display_data",
          "data": {
            "image/png": "[encoded data removed]",
            "text/plain": [
              "<Figure size 432x288 with 1 Axes>"
            ]
          },
          "metadata": {
            "tags": []
          }
        }
      ]
    },
    {
      "cell_type": "code",
      "metadata": {
        "id": "1_2zlzAXAQU2",
        "colab_type": "code",
        "colab": {}
      },
      "source": [
        ""
      ],
      "execution_count": 0,
      "outputs": []
    }
  ]
}