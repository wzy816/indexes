{
 "cells": [
  {
   "cell_type": "markdown",
   "metadata": {},
   "source": [
    "# Linear Algebra\n",
    "\n",
    "## basic\n",
    "\n",
    "scalar $a$\n",
    "\n",
    "vector $\\textbf{a}$\n",
    "\n",
    "matrix $\\textbf{A} \\in \\R ^{m\\times n}$\n",
    "\n",
    "tensor **A**\n"
   ]
  },
  {
   "cell_type": "code",
   "execution_count": 2,
   "metadata": {},
   "outputs": [],
   "source": [
    "import numpy as np"
   ]
  },
  {
   "cell_type": "markdown",
   "metadata": {},
   "source": [
    "\n",
    "## multiplying\n",
    "\n",
    "$ \\textbf{C}= \\textbf{A} \\textbf{B} $ is defined by $ \\textbf{C}_{i,j} = \\sum_{k} \\textbf{A}_{i,k} \\textbf{B}_{k,j}$"
   ]
  },
  {
   "cell_type": "code",
   "execution_count": 11,
   "metadata": {},
   "outputs": [
    {
     "name": "stdout",
     "output_type": "stream",
     "text": [
      "A [[1 2]\n",
      " [3 4]]\n",
      "B [[5 6]\n",
      " [7 8]]\n",
      "C [[19 22]\n",
      " [43 50]]\n"
     ]
    }
   ],
   "source": [
    "A = np.array([[1, 2], [3,4]])\n",
    "B = np.array([[5, 6], [7, 8]])\n",
    "C = A.dot(B)\n",
    "print('A',A)\n",
    "print('B',B)\n",
    "print('C',C)"
   ]
  },
  {
   "cell_type": "markdown",
   "metadata": {},
   "source": [
    "$\\textbf{C} = \\textbf{A} \\odot \\textbf{B} $ is the element-wise/hadamard product "
   ]
  },
  {
   "cell_type": "code",
   "execution_count": 10,
   "metadata": {},
   "outputs": [
    {
     "name": "stdout",
     "output_type": "stream",
     "text": [
      "[[ 5 12]\n",
      " [21 32]]\n"
     ]
    }
   ],
   "source": [
    "C_hadamard = np.multiply(A,B)\n",
    "print(C_hadamard)"
   ]
  },
  {
   "cell_type": "markdown",
   "metadata": {},
   "source": [
    "## inverse\n",
    "$ \\textbf{A}^{-1} \\textbf{A} = \\textbf{I}_{n}$\n",
    "\n",
    "when $\\textbf{A} x = b $, $x = \\textbf{A}^{-1}b$"
   ]
  },
  {
   "cell_type": "code",
   "execution_count": 14,
   "metadata": {},
   "outputs": [
    {
     "name": "stdout",
     "output_type": "stream",
     "text": [
      "[[-2.   1. ]\n",
      " [ 1.5 -0.5]]\n",
      "[[1.0000000e+00 4.4408921e-16]\n",
      " [0.0000000e+00 1.0000000e+00]]\n"
     ]
    }
   ],
   "source": [
    "A_inv = np.linalg.inv(A)\n",
    "print(A_inv)\n",
    "\n",
    "I = A_inv.dot(A)\n",
    "print(I)"
   ]
  },
  {
   "cell_type": "markdown",
   "metadata": {},
   "source": [
    "## norm\n",
    "$L^{p} = \\| x \\| _{p} = (\\sum_{i}|x_{i}|^{p})^{\\frac{1}{p}}$"
   ]
  },
  {
   "cell_type": "code",
   "execution_count": 18,
   "metadata": {},
   "outputs": [
    {
     "name": "stdout",
     "output_type": "stream",
     "text": [
      "5.477225575051661\n"
     ]
    }
   ],
   "source": [
    "v = np.array([1,2,3,4])\n",
    "L2 = np.linalg.norm(v)\n",
    "print(L2)"
   ]
  },
  {
   "cell_type": "markdown",
   "metadata": {},
   "source": [
    "## eigendecomposition\n",
    "When $\\textbf{A}$ is a square matrix, \n",
    "\n",
    "$\\textbf{v}$ is the right eigen vector, $\\lambda$ is the eigenvalue if\n",
    "\n",
    "$$\\textbf{A} \\textbf{v} = \\lambda \\textbf{v}$$ \n",
    "\n",
    "$\\textbf{v}$ is a left eigen vector if\n",
    "\n",
    "$$\\textbf{v}^{T} \\textbf{A} = \\lambda \\textbf{v}^{T}$$\n",
    "\n",
    "Then the eigendecomposition of $\\textbf{A}$ is\n",
    "\n",
    "$$ \\textbf{A} = \\textbf{V} diag(\\lambda) \\textbf{V}^{-1}$$\n",
    "\n",
    "When $\\textbf{A}$ is a real symmetric matrix, it is guaranteed to have\n",
    "\n",
    "$$ \\textbf{A} = \\textbf{Q} \\Lambda \\textbf{Q}^{T}$$\n",
    "\n",
    "where $\\textbf{Q}$ is an orthogonal matrix and $\\Lambda$ is a diagonal matrix"
   ]
  },
  {
   "cell_type": "code",
   "execution_count": 25,
   "metadata": {},
   "outputs": [
    {
     "name": "stdout",
     "output_type": "stream",
     "text": [
      "[-0.37228132  5.37228132]\n",
      "[[-0.82456484 -0.41597356]\n",
      " [ 0.56576746 -0.90937671]]\n",
      "[[1 2]\n",
      " [3 4]]\n",
      "[[1. 2.]\n",
      " [3. 4.]]\n"
     ]
    }
   ],
   "source": [
    "eigen_value, eigen_vector = np.linalg.eig(A)\n",
    "print(eigen_value)\n",
    "print(eigen_vector)\n",
    "\n",
    "A_deco = eigen_vector.dot(np.diag(eigen_value)).dot(np.linalg.inv(eigen_vector))\n",
    "print(A)\n",
    "print(A_deco)"
   ]
  },
  {
   "cell_type": "markdown",
   "metadata": {},
   "source": [
    "## single value decomposition\n",
    "when $\\textbf{A}$ is not a square matrix, SVG is\n",
    "$$ \\textbf{A} = \\textbf{U} \\textbf{D} \\textbf{V}^{T} $$\n",
    "where left-singular vector $\\textbf{U}$ and right-singular vector $\\textbf{V}$ are orthogonal, singular-values $\\textbf{D}$ is diagonal"
   ]
  },
  {
   "cell_type": "code",
   "execution_count": 49,
   "metadata": {},
   "outputs": [
    {
     "name": "stdout",
     "output_type": "stream",
     "text": [
      "[[1 2 3]\n",
      " [4 5 6]]\n",
      "[[-0.3863177  -0.92236578]\n",
      " [-0.92236578  0.3863177 ]]\n",
      "[9.508032   0.77286964]\n",
      "[[9.508032   0.         0.        ]\n",
      " [0.         0.77286964 0.        ]]\n",
      "[[-0.42866713 -0.56630692 -0.7039467 ]\n",
      " [ 0.80596391  0.11238241 -0.58119908]\n",
      " [ 0.40824829 -0.81649658  0.40824829]]\n",
      "[[1. 2. 3.]\n",
      " [4. 5. 6.]]\n"
     ]
    }
   ],
   "source": [
    "A = np.array([\n",
    "    [1,2,3],\n",
    "    [4,5,6]\n",
    "])\n",
    "u,d,v = np.linalg.svd(A)\n",
    "print(A)\n",
    "print(u)\n",
    "print(d)\n",
    "diag = np.zeros((2,3),float)\n",
    "np.fill_diagonal(diag,d)\n",
    "print(diag)\n",
    "print(v)\n",
    "A_deco = u.dot(diag).dot(v)\n",
    "print(A_deco)"
   ]
  },
  {
   "cell_type": "markdown",
   "metadata": {},
   "source": [
    "## trace\n",
    "$Tr(\\textbf{A}) = \\sum_{i} \\textbf{A}_{i,i}$"
   ]
  },
  {
   "cell_type": "code",
   "execution_count": 54,
   "metadata": {},
   "outputs": [
    {
     "name": "stdout",
     "output_type": "stream",
     "text": [
      "[[1 2 3]\n",
      " [4 5 6]]\n",
      "6\n",
      "9.539392014169456\n",
      "9.539392014169456\n"
     ]
    }
   ],
   "source": [
    "tr = np.trace(A)\n",
    "print(A)\n",
    "print(tr)\n",
    "f = np.sqrt(np.trace(A.dot(A.T)))\n",
    "print(f)\n",
    "print(np.linalg.norm(A))"
   ]
  },
  {
   "cell_type": "markdown",
   "metadata": {},
   "source": [
    "## determinant\n"
   ]
  }
 ],
 "metadata": {
  "kernelspec": {
   "display_name": "Python 3",
   "language": "python",
   "name": "python3"
  },
  "language_info": {
   "codemirror_mode": {
    "name": "ipython",
    "version": 3
   },
   "file_extension": ".py",
   "mimetype": "text/x-python",
   "name": "python",
   "nbconvert_exporter": "python",
   "pygments_lexer": "ipython3",
   "version": "3.7.3"
  }
 },
 "nbformat": 4,
 "nbformat_minor": 2
}
